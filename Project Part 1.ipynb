{
 "cells": [
  {
   "cell_type": "code",
   "execution_count": 1,
   "metadata": {},
   "outputs": [],
   "source": [
    "import sympy\n",
    "import numpy\n",
    "import scipy\n",
    "import matplotlib.pyplot as plt\n",
    "\n",
    "import pandas\n",
    "\n",
    "import control\n",
    "\n",
    "import scipy.optimize\n",
    "from tbcontrol.responses import fopdt, sopdt\n",
    "from ipywidgets import interact\n",
    "\n",
    "import tclab"
   ]
  },
  {
   "cell_type": "code",
   "execution_count": 2,
   "metadata": {},
   "outputs": [],
   "source": [
    "TCLab = tclab.setup(connected= True) #False, speedup=100)\n",
    "\n",
    "base_unit = 60 #Hour\n",
    "spans = 6\n",
    "\n",
    "run_time = base_unit*spans\n",
    "setpoint = 30"
   ]
  },
  {
   "cell_type": "code",
   "execution_count": null,
   "metadata": {},
   "outputs": [
    {
     "data": {
      "image/png": "[encoded data removed]",
      "text/plain": [
       "<Figure size 640x480 with 4 Axes>"
      ]
     },
     "metadata": {},
     "output_type": "display_data"
    }
   ],
   "source": [
    "with TCLab() as lab:\n",
    "    h = tclab.Historian(lab.sources)\n",
    "    tcplot = tclab.Plotter(h, run_time)\n",
    "    q_test = 0\n",
    "    for t in tclab.clock(run_time):\n",
    "        if t%(base_unit)==0 and t>0:\n",
    "            q_test+=20\n",
    "        lab.Q1(q_test)\n",
    "        tcplot.update(t)"
   ]
  },
  {
   "cell_type": "code",
   "execution_count": null,
   "metadata": {},
   "outputs": [],
   "source": [
    "h.get_sessions()"
   ]
  },
  {
   "cell_type": "code",
   "execution_count": null,
   "metadata": {},
   "outputs": [],
   "source": [
    "h.load_session(1)"
   ]
  },
  {
   "cell_type": "code",
   "execution_count": null,
   "metadata": {},
   "outputs": [],
   "source": [
    "data = {\"Time\" : h.t, \"T1\" : h.logdict['T1'], \"T2\" : h.logdict['T2'], \"Q1\" : h.logdict['Q1'], \"Q2\" : h.logdict['Q2']}"
   ]
  },
  {
   "cell_type": "code",
   "execution_count": null,
   "metadata": {},
   "outputs": [],
   "source": [
    "data_frame = pandas.DataFrame(data = data)\n",
    "data_frame.to_csv()"
   ]
  },
  {
   "cell_type": "code",
   "execution_count": null,
   "metadata": {},
   "outputs": [],
   "source": [
    "[K, tau, theta, y0], _ = scipy.optimize.curve_fit(fopdt, h.t, h.logdict['T1'], [2, 4, 100, 50])\n",
    "[K, tau, theta, y0]"
   ]
  },
  {
   "cell_type": "code",
   "execution_count": null,
   "metadata": {},
   "outputs": [],
   "source": [
    "for span in range(spans):\n",
    "    lower = span*base_unit\n",
    "    upper = (span+1)*base_unit\n",
    "    print (upper)\n",
    "    \n",
    "    print (numpy.array(h.t[lower:upper])-h.t[lower])\n",
    "    [K, tau, theta, y0], _ = scipy.optimize.curve_fit(fopdt, numpy.array(h.t[lower:upper])-h.t[lower], h.logdict['T1'][lower:upper], [2, 4, 100, 50])\n",
    "    print([K, tau, theta, y0])\n",
    "    \n",
    "    print( fopdt(numpy.array(h.t[lower:upper])-h.t[lower], K, tau, theta, y0))\n",
    "#     plt.plot(h.t, h.logdict['T1'])\n",
    "#     plt.plot(h.t[lower:upper], fopdt(numpy.array(h.t[lower:upper])-h.t[lower], K, tau, theta, y0))"
   ]
  },
  {
   "cell_type": "code",
   "execution_count": null,
   "metadata": {},
   "outputs": [],
   "source": [
    "plt.plot(h.t, h.logdict['T1'])\n",
    "plt.plot(h.t, fopdt(h.t, K, tau, theta, y0))"
   ]
  },
  {
   "cell_type": "code",
   "execution_count": null,
   "metadata": {},
   "outputs": [],
   "source": []
  },
  {
   "cell_type": "code",
   "execution_count": null,
   "metadata": {},
   "outputs": [],
   "source": []
  }
 ],
 "metadata": {
  "kernelspec": {
   "display_name": "Python 3",
   "language": "python",
   "name": "python3"
  },
  "language_info": {
   "codemirror_mode": {
    "name": "ipython",
    "version": 3
   },
   "file_extension": ".py",
   "mimetype": "text/x-python",
   "name": "python",
   "nbconvert_exporter": "python",
   "pygments_lexer": "ipython3",
   "version": "3.7.4"
  }
 },
 "nbformat": 4,
 "nbformat_minor": 4
}
